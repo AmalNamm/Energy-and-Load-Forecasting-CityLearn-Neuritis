{
 "cells": [
  {
   "cell_type": "code",
   "execution_count": 1,
   "id": "82cf0f5f-f222-4e1f-b2ce-65d4fc981219",
   "metadata": {
    "tags": []
   },
   "outputs": [],
   "source": [
    "import pandas as pd\n",
    "from sklearn.preprocessing import StandardScaler\n",
    "from sklearn.metrics.pairwise import cosine_similarity"
   ]
  },
  {
   "cell_type": "code",
   "execution_count": 2,
   "id": "7d2ccbf8-f5ca-4367-809e-6f79410bc8a2",
   "metadata": {
    "tags": []
   },
   "outputs": [],
   "source": [
    "b_1 = pd.read_csv('Building_1.csv')\n",
    "b_2 = pd.read_csv('Building_2.csv')\n",
    "b_3 = pd.read_csv('Building_3.csv')\n",
    "b_4 = pd.read_csv('Building_4.csv')\n",
    "b_5 = pd.read_csv('Building_5.csv')\n",
    "b_6 = pd.read_csv('Building_6.csv')\n",
    "b_7 = pd.read_csv('Building_7.csv')\n",
    "b_8 = pd.read_csv('Building_8.csv')\n",
    "b_9 = pd.read_csv('Building_9.csv')\n",
    "b_1_l = pd.read_csv('Building_1_local.csv')\n",
    "b_2_l = pd.read_csv('Building_2_local.csv')\n",
    "b_3_l = pd.read_csv('Building_3_local.csv')\n",
    "\n",
    "solar = pd.read_csv('solar_generation_1kW.csv')"
   ]
  },
  {
   "cell_type": "code",
   "execution_count": 3,
   "id": "eafa59d5-23e2-4259-9d69-d8e570bb234e",
   "metadata": {
    "tags": []
   },
   "outputs": [],
   "source": [
    "b_1['Solar Generation (W/kW)']= solar['Hourly Data: AC inverter power (W)']\n",
    "b_2['Solar Generation (W/kW)']= solar['Hourly Data: AC inverter power (W)']\n",
    "b_3['Solar Generation (W/kW)']= solar['Hourly Data: AC inverter power (W)']\n",
    "b_4['Solar Generation (W/kW)']= solar['Hourly Data: AC inverter power (W)']\n",
    "b_5['Solar Generation (W/kW)']= solar['Hourly Data: AC inverter power (W)']\n",
    "b_6['Solar Generation (W/kW)']= solar['Hourly Data: AC inverter power (W)']\n",
    "b_7['Solar Generation (W/kW)']= solar['Hourly Data: AC inverter power (W)']\n",
    "b_8['Solar Generation (W/kW)']= solar['Hourly Data: AC inverter power (W)']\n",
    "b_9['Solar Generation (W/kW)']= solar['Hourly Data: AC inverter power (W)']"
   ]
  },
  {
   "cell_type": "code",
   "execution_count": 4,
   "id": "d5067bd3-9efb-4caa-be07-d12d4b62149d",
   "metadata": {
    "tags": []
   },
   "outputs": [],
   "source": [
    "b_1_l = b_1_l.drop(columns=['Occupant Count (people)','Temperature Set Point (C)','HVAC Mode (Off/Cooling/Heating)'])\n",
    "b_2_l = b_2_l.drop(columns=['Occupant Count (people)','Temperature Set Point (C)','HVAC Mode (Off/Cooling/Heating)'])\n",
    "b_3_l = b_3_l.drop(columns=['Occupant Count (people)','Temperature Set Point (C)','HVAC Mode (Off/Cooling/Heating)'])\n",
    "\n",
    "df_list = [b_1,b_2,b_3,b_4,b_5,b_6,b_7,b_8,b_9,b_1_l,b_2_l,b_3_l]"
   ]
  },
  {
   "cell_type": "code",
   "execution_count": 5,
   "id": "6243b478-ea61-4a80-84d4-a206ce8d58d5",
   "metadata": {
    "tags": []
   },
   "outputs": [],
   "source": [
    "# Adress the differences in the dfs\n",
    "\n",
    "for df in df_list:\n",
    "    df.columns = df.columns.str.replace(\"\\\\[\", \"(\", regex=True)\n",
    "    df.columns = df.columns.str.replace(\"\\\\]\", \")\", regex=True)\n"
   ]
  },
  {
   "cell_type": "code",
   "execution_count": 7,
   "id": "479ccb2f-6fc6-4b1f-8840-93e73dda26a7",
   "metadata": {
    "tags": []
   },
   "outputs": [],
   "source": [
    "b_1.to_csv('Building_1_S.csv')\n",
    "b_2.to_csv('Building_2_S.csv')\n",
    "b_3.to_csv('Building_3_S.csv')\n",
    "b_4.to_csv('Building_4_S.csv')\n",
    "b_5.to_csv('Building_5_S.csv')\n",
    "b_6.to_csv('Building_6_S.csv')\n",
    "b_7.to_csv('Building_7_S.csv')\n",
    "b_8.to_csv('Building_8_S.csv')\n",
    "b_9.to_csv('Building_9_S.csv')\n",
    "b_1_l.to_csv('Building_10_S.csv')\n",
    "b_2_l.to_csv('Building_11_S.csv')\n",
    "b_3_l.to_csv('Building_12_S.csv')"
   ]
  },
  {
   "cell_type": "code",
   "execution_count": null,
   "id": "52ccafa9-c6f6-496a-915d-6859f36d5421",
   "metadata": {
    "tags": []
   },
   "outputs": [],
   "source": [
    "# Concatenate the 12 dataframes into a single dataframe\n",
    "combined_df = pd.concat(df_list, ignore_index=True)\n",
    "\n",
    "# Select numerical features for scaling\n",
    "numerical_features = ['Indoor Temperature (C)', 'Average Unmet Cooling Setpoint Difference (C)',\n",
    "                      'Indoor Relative Humidity (%)', 'Equipment Electric Power (kWh)',\n",
    "                      'DHW Heating (kWh)', 'Cooling Load (kWh)', 'Solar Generation (W/kW)']\n",
    "\n",
    "# Scale the features\n",
    "scaler = StandardScaler()\n",
    "scaled_features = scaler.fit_transform(combined_df[numerical_features])\n",
    "\n",
    "# Calculate cosine similarity between buildings\n",
    "cosine_similarities = cosine_similarity(scaled_features)\n",
    "\n",
    "# Print similarity scores\n",
    "num_buildings = len(building_dataframes)\n",
    "for i in range(num_buildings):\n",
    "    print(f\"Similarity scores for Building {i + 1}:\")\n",
    "    for j in range(num_buildings):\n",
    "        if i != j:\n",
    "            print(f\"  Building {j + 1}: {cosine_similarities[i][j]}\")\n",
    "    print(\"-\" * 40)"
   ]
  },
  {
   "cell_type": "code",
   "execution_count": null,
   "id": "76e1f487-2a06-4822-85b3-9c01a2463849",
   "metadata": {
    "tags": []
   },
   "outputs": [],
   "source": [
    "b_1.to_csv('Building_1_S.csv')\n",
    "b_2.to_csv('Building_2_S.csv')\n",
    "b_3.to_csv('Building_3_S.csv')\n",
    "b_4.to_csv('Building_4_S.csv')\n",
    "b_5.to_csv('Building_5_S.csv')\n",
    "b_6.to_csv('Building_6_S.csv')\n",
    "b_7.to_csv('Building_7_S.csv')\n",
    "b_8.to_csv('Building_8_S.csv')\n",
    "b_9.to_csv('Building_9_S.csv')"
   ]
  },
  {
   "cell_type": "code",
   "execution_count": null,
   "id": "124bcfb6-8dec-4a4c-ad50-b28d1c7e6c15",
   "metadata": {
    "tags": []
   },
   "outputs": [],
   "source": [
    "b_1_l"
   ]
  },
  {
   "cell_type": "code",
   "execution_count": null,
   "id": "318d15d9-8400-48c9-a44a-151c58746398",
   "metadata": {
    "tags": []
   },
   "outputs": [],
   "source": [
    "b_1"
   ]
  },
  {
   "cell_type": "code",
   "execution_count": null,
   "id": "3f30d2ab-79a8-42b6-8406-07ed5513efc4",
   "metadata": {},
   "outputs": [],
   "source": []
  }
 ],
 "metadata": {
  "kernelspec": {
   "display_name": "Python 3 (ipykernel)",
   "language": "python",
   "name": "python3"
  },
  "language_info": {
   "codemirror_mode": {
    "name": "ipython",
    "version": 3
   },
   "file_extension": ".py",
   "mimetype": "text/x-python",
   "name": "python",
   "nbconvert_exporter": "python",
   "pygments_lexer": "ipython3",
   "version": "3.10.10"
  }
 },
 "nbformat": 4,
 "nbformat_minor": 5
}
